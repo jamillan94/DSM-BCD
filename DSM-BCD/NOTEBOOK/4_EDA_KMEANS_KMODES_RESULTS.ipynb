{
 "cells": [
  {
   "attachments": {},
   "cell_type": "markdown",
   "metadata": {},
   "source": [
    "# Data Science Methodology for Breast Cancer Diagnosis (DSM-BCD)"
   ]
  },
  {
   "cell_type": "markdown",
   "metadata": {},
   "source": [
    "**Problema.** Colombia presenta limitaciones con respecto al acceso de la detección y el diagnóstico temprano del cáncer, provocado en la mayoría de los casos por factores como el estrato socio-económico, la cobertura del seguro de salud, el origen y la accesibilidad. En promedio, el tiempo de espera de un paciente es de 90 días desde la aparición de los síntomas hasta el diagnóstico de dicho cáncer. La primera acción para reducir la tasa de mortalidad por cáncer de mama debe estar enfocada en la agilidad del diagnóstico y el acceso oportuno a la atención.  Así, el objetivo de esta investigación es aplicar las etapas de la metodología KDD\\footnote{Knowledge Discovery in Databases} al conjunto de datos de morbilidad por cáncer entre los años 2019 y 2020 en el municipio de Pereira-Risaralda. Esto con la finalidad de pronosticar y caracterizar el tipo de población mas susceptible de padecer esta enfermedad según su edad, genero, zona y régimen de salud."
   ]
  },
  {
   "attachments": {},
   "cell_type": "markdown",
   "metadata": {},
   "source": [
    "**Conjunto de datos.** Un total de 817 muestras de tumores de mama se perfilaron con cinco plataformas diferentes como se ha descrito previamente (Cancer Genome Atlas Research Network, 2014) y también se perfilaron 633 casos mediante matriz de proteínas en fase inversa (RPPA)\n"
   ]
  },
  {
   "cell_type": "markdown",
   "metadata": {},
   "source": [
    "## Análisis exploratorio de datos"
   ]
  },
  {
   "cell_type": "code",
   "execution_count": null,
   "metadata": {},
   "outputs": [],
   "source": [
    "import pandas as pd\n",
    "import numpy as np\n",
    "from IPython.display import Image\n",
    "import matplotlib.pyplot as plt\n",
    "from dataprep.eda import plot, plot_correlation, plot_missing,create_report\n",
    "from dataprep.clean import clean_headers\n",
    "from dataprep.clean import clean_duplication\n",
    "from dataprep.eda import plot_diff"
   ]
  },
  {
   "attachments": {},
   "cell_type": "markdown",
   "metadata": {},
   "source": [
    "### K-Means Clustering"
   ]
  },
  {
   "cell_type": "code",
   "execution_count": null,
   "metadata": {},
   "outputs": [],
   "source": [
    "with open('kmean Cluster 0.csv') as f:\n",
    "    Cluster_0_kmean=pd.read_csv(f, delimiter=',')\n",
    "\n",
    "with open('kmean Cluster 1.csv') as f:\n",
    "    Cluster_1_kmean=pd.read_csv(f, delimiter=',')\n",
    "\n",
    "with open('kmean Cluster 2.csv') as f:\n",
    "    Cluster_2_kmean=pd.read_csv(f, delimiter=',')\n",
    "\n",
    "with open('kmean Cluster 3.csv') as f:\n",
    "    Cluster_3_kmean=pd.read_csv(f, delimiter=',')"
   ]
  },
  {
   "cell_type": "code",
   "execution_count": null,
   "metadata": {},
   "outputs": [],
   "source": [
    "Cluster_0_kmean = create_report(Cluster_0_kmean, title='Cluster_0_kmean')\n",
    "Cluster_0_kmean.show_browser()"
   ]
  },
  {
   "cell_type": "code",
   "execution_count": null,
   "metadata": {},
   "outputs": [],
   "source": [
    "Cluster_1_kmean = create_report(Cluster_1_kmean, title='Cluster_1_kmean')\n",
    "Cluster_1_kmean.show_browser()"
   ]
  },
  {
   "cell_type": "code",
   "execution_count": null,
   "metadata": {},
   "outputs": [],
   "source": [
    "Cluster_2_kmean = create_report(Cluster_2_kmean, title='Cluster_2_kmean')\n",
    "Cluster_2_kmean.show_browser()"
   ]
  },
  {
   "cell_type": "code",
   "execution_count": null,
   "metadata": {},
   "outputs": [],
   "source": [
    "Cluster_3_kmean = create_report(Cluster_3_kmean, title='Cluster_3_kmean')\n",
    "Cluster_3_kmean.show_browser()"
   ]
  },
  {
   "cell_type": "code",
   "execution_count": null,
   "metadata": {},
   "outputs": [],
   "source": [
    "Cluster_0=Cluster_0_kmean.applymap(str)\n",
    "Cluster_1=Cluster_1_kmean.applymap(str)\n",
    "Cluster_2=Cluster_2_kmean.applymap(str)\n",
    "Cluster_3=Cluster_3_kmean.applymap(str)\n",
    "\n",
    "results = plot_diff([Cluster_0,Cluster_1,Cluster_2,Cluster_3],\n",
    "config={\n",
    "    \"diff.label\": [\"Cluster 0\", \"Cluster 1\" , \"Cluster 2\",\"Cluster 3\"],\n",
    "    \"diff.baseline\": 1,\n",
    "    \"diff.density\": True\n",
    "    }\n",
    ")\n",
    "#results.show_browser()"
   ]
  },
  {
   "attachments": {},
   "cell_type": "markdown",
   "metadata": {},
   "source": [
    "### K-Modes Clustering"
   ]
  },
  {
   "cell_type": "code",
   "execution_count": null,
   "metadata": {},
   "outputs": [],
   "source": [
    "with open('kmode Cluster 0.csv') as f:\n",
    "    Cluster_0_kmode=pd.read_csv(f, delimiter=',')\n",
    "\n",
    "with open('kmode Cluster 1.csv') as f:\n",
    "    Cluster_1_kmode=pd.read_csv(f, delimiter=',')\n",
    "\n",
    "with open('kmode Cluster 2.csv') as f:\n",
    "    Cluster_2_kmode=pd.read_csv(f, delimiter=',')\n"
   ]
  },
  {
   "cell_type": "code",
   "execution_count": null,
   "metadata": {},
   "outputs": [],
   "source": [
    "Cluster_0_kmode = create_report(Cluster_0_kmode, title='Cluster_0_kmode')\n",
    "Cluster_0_kmode.show_browser()"
   ]
  },
  {
   "cell_type": "code",
   "execution_count": null,
   "metadata": {},
   "outputs": [],
   "source": [
    "Cluster_1_kmode = create_report(Cluster_1_kmode, title='Cluster_1_kmode')\n",
    "Cluster_1_kmode.show_browser()"
   ]
  },
  {
   "cell_type": "code",
   "execution_count": null,
   "metadata": {},
   "outputs": [],
   "source": [
    "Cluster_2_kmode = create_report(Cluster_2_kmode, title='Cluster_2_kmode')\n",
    "Cluster_2_kmode.show_browser()"
   ]
  },
  {
   "cell_type": "code",
   "execution_count": null,
   "metadata": {},
   "outputs": [],
   "source": [
    "Cluster_0=Cluster_0_kmode.applymap(str)\n",
    "Cluster_1=Cluster_1_kmode.applymap(str)\n",
    "Cluster_2=Cluster_2_kmode.applymap(str)\n",
    "\n",
    "results = plot_diff([Cluster_0,Cluster_1,Cluster_2],\n",
    "config={\n",
    "    \"diff.label\": [\"Cluster 0\", \"Cluster 1\" , \"Cluster 2\"],\n",
    "    \"diff.baseline\": 1,\n",
    "    \"diff.density\": True\n",
    "    }\n",
    ")\n",
    "#results.show_browser()"
   ]
  }
 ],
 "metadata": {
  "celltoolbar": "Raw Cell Format",
  "kernelspec": {
   "display_name": "base",
   "language": "python",
   "name": "python3"
  },
  "language_info": {
   "codemirror_mode": {
    "name": "ipython",
    "version": 3
   },
   "file_extension": ".py",
   "mimetype": "text/x-python",
   "name": "python",
   "nbconvert_exporter": "python",
   "pygments_lexer": "ipython3",
   "version": "3.9.7"
  },
  "vscode": {
   "interpreter": {
    "hash": "ad2bdc8ecc057115af97d19610ffacc2b4e99fae6737bb82f5d7fb13d2f2c186"
   }
  }
 },
 "nbformat": 4,
 "nbformat_minor": 2
}
