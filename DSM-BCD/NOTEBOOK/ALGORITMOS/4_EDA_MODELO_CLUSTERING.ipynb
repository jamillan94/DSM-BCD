{
 "cells": [
  {
   "attachments": {},
   "cell_type": "markdown",
   "metadata": {},
   "source": [
    "# Data Science Methodology for Breast Cancer Diagnosis (DSM-BCD)"
   ]
  },
  {
   "cell_type": "markdown",
   "metadata": {},
   "source": [
    "**Problema.** Colombia presenta limitaciones con respecto al acceso de la detección y el diagnóstico temprano del cáncer, provocado en la mayoría de los casos por factores como el estrato socio-económico, la cobertura del seguro de salud, el origen y la accesibilidad. En promedio, el tiempo de espera de un paciente es de 90 días desde la aparición de los síntomas hasta el diagnóstico de dicho cáncer. La primera acción para reducir la tasa de mortalidad por cáncer de mama debe estar enfocada en la agilidad del diagnóstico y el acceso oportuno a la atención.  Así, el objetivo de esta investigación es aplicar las etapas de la metodología KDD\\footnote{Knowledge Discovery in Databases} al conjunto de datos de morbilidad por cáncer entre los años 2019 y 2020 en el municipio de Pereira-Risaralda. Esto con la finalidad de pronosticar y caracterizar el tipo de población mas susceptible de padecer esta enfermedad según su edad, genero, zona y régimen de salud."
   ]
  },
  {
   "attachments": {},
   "cell_type": "markdown",
   "metadata": {},
   "source": [
    "**Conjunto de datos.** Un total de 817 muestras de tumores de mama se perfilaron con cinco plataformas diferentes como se ha descrito previamente (Cancer Genome Atlas Research Network, 2014) y también se perfilaron 633 casos mediante matriz de proteínas en fase inversa (RPPA)\n"
   ]
  },
  {
   "cell_type": "markdown",
   "metadata": {},
   "source": [
    "## Análisis exploratorio de datos"
   ]
  },
  {
   "cell_type": "code",
   "execution_count": 7,
   "metadata": {},
   "outputs": [],
   "source": [
    "import pandas as pd\n",
    "import seaborn as sns\n",
    "import matplotlib.pyplot as plt"
   ]
  },
  {
   "attachments": {},
   "cell_type": "markdown",
   "metadata": {},
   "source": [
    "### BIRCH Clustering"
   ]
  },
  {
   "cell_type": "code",
   "execution_count": 4,
   "metadata": {},
   "outputs": [],
   "source": [
    "with open('birch Cluster 0.csv') as f:\n",
    "    Cluster_0_birch=pd.read_csv(f, delimiter=',')\n",
    "\n",
    "with open('birch Cluster 1.csv') as f:\n",
    "    Cluster_1_birch=pd.read_csv(f, delimiter=',')\n",
    "\n",
    "with open('birch Cluster 2.csv') as f:\n",
    "    Cluster_2_birch=pd.read_csv(f, delimiter=',')\n",
    "\n",
    "with open('birch Cluster 3.csv') as f:\n",
    "    Cluster_3_birch=pd.read_csv(f, delimiter=',')\n",
    "\t\n",
    "\n",
    "#Cluster_0_birch = create_report(Cluster_0_birch, title='Cluster_0_birch')\n",
    "#Cluster_1_birch = create_report(Cluster_1_birch, title='Cluster_1_birch')\n",
    "#Cluster_2_birch = create_report(Cluster_2_birch, title='Cluster_2_birch')\n",
    "#Cluster_3_birch = create_report(Cluster_3_birch, title='Cluster_3_birch')\n",
    "\n",
    "#Cluster_0_birch.show_browser()\n",
    "#Cluster_1_birch.show_browser()\n",
    "#Cluster_2_birch.show_browser()\n",
    "#Cluster_3_birch.show_browser()"
   ]
  },
  {
   "attachments": {},
   "cell_type": "markdown",
   "metadata": {},
   "source": [
    "### Compare BIRCH"
   ]
  },
  {
   "cell_type": "code",
   "execution_count": 19,
   "metadata": {},
   "outputs": [],
   "source": [
    "import matplotlib.pyplot as plt\n",
    "PATH_CLUSTERS = 'C:\\\\Users\\\\jamil\\\\OneDrive\\\\Escritorio\\\\DSM-BCD\\\\DSM-BCD\\\\NOTEBOOK\\\\IMAGENES_BIRCH_CLUSTERING\\\\'\n",
    "\n",
    "variables = ['oncotree_code','neoplasm_lymph_code','neoplasm_disease_stage_code','tumor_stage_code','her_2_ihc_percent_positive',\n",
    "             'lymph_presentation','positive_lymph_hematoxylin','mutation_count','overall_survival_months',\n",
    "             'tmb_nonsynonymous']"
   ]
  },
  {
   "cell_type": "code",
   "execution_count": 20,
   "metadata": {},
   "outputs": [
    {
     "data": {
      "text/plain": [
       "<Figure size 432x288 with 0 Axes>"
      ]
     },
     "metadata": {},
     "output_type": "display_data"
    }
   ],
   "source": [
    "a=0\n",
    "for i in variables:\n",
    "    if Cluster_0_birch[i].dtypes == 'float64' or Cluster_0_birch[i].dtypes == 'int64':\n",
    "        a= a +1\n",
    "        numerical=sns.histplot(Cluster_0_birch[i],kde = True, color='#8a93f8')\n",
    "        numerical.tick_params(axis='x', rotation=75)\n",
    "        numerical.set(title='Cluster 0')\n",
    "        plot_num=numerical.get_figure()\n",
    "        plot_num.savefig(PATH_CLUSTERS+str(a)+'_Cluster_0_'+i+\".pdf\",bbox_inches = 'tight')\n",
    "        plt.clf()\n",
    "\n",
    "    if Cluster_0_birch[i].dtypes == 'object' or Cluster_0_birch[i].dtype== 'bool' : \n",
    "        a= a +1\n",
    "        categorical=sns.countplot(x=Cluster_0_birch[i], order = Cluster_0_birch[i].value_counts().iloc[:10].index, color='#8a93f8')\n",
    "        categorical.tick_params(axis='x', rotation=75)\n",
    "        categorical.set(title='Cluster 0')\n",
    "        plot_cat = categorical.get_figure()\n",
    "        plot_cat.savefig(PATH_CLUSTERS+str(a)+'_Cluster_0_'+i+\".pdf\",bbox_inches = 'tight')    \n",
    "        plt.clf()\t\n"
   ]
  },
  {
   "cell_type": "code",
   "execution_count": 21,
   "metadata": {},
   "outputs": [
    {
     "data": {
      "text/plain": [
       "<Figure size 432x288 with 0 Axes>"
      ]
     },
     "metadata": {},
     "output_type": "display_data"
    }
   ],
   "source": [
    "a=0\n",
    "for i in variables:\n",
    "    if Cluster_3_birch[i].dtypes == 'float64' or Cluster_3_birch[i].dtypes == 'int64':\n",
    "        a= a +1\n",
    "        numerical=sns.histplot(Cluster_3_birch[i],kde = True,color='#ab63fa')\n",
    "        numerical.tick_params(axis='x', rotation=75)\n",
    "        numerical.set(title='Cluster 3')\n",
    "        plot_num=numerical.get_figure()\n",
    "        plot_num.savefig(PATH_CLUSTERS+str(a)+'_Cluster_3_'+i+\".pdf\",bbox_inches = 'tight')\n",
    "        plt.clf()\n",
    "\n",
    "    if Cluster_3_birch[i].dtypes == 'object' or Cluster_3_birch[i].dtype== 'bool' : \n",
    "        a= a +1\n",
    "        categorical=sns.countplot(x=Cluster_3_birch[i], order = Cluster_3_birch[i].value_counts().iloc[:10].index,color='#ab63fa')\n",
    "        categorical.tick_params(axis='x', rotation=75)\n",
    "        categorical.set(title='Cluster 3')\n",
    "        plot_cat = categorical.get_figure()\n",
    "        plot_cat.savefig(PATH_CLUSTERS+str(a)+'_Cluster_3_'+i+\".pdf\",bbox_inches = 'tight')    \n",
    "        plt.clf()\t"
   ]
  },
  {
   "cell_type": "code",
   "execution_count": 6,
   "metadata": {},
   "outputs": [
    {
     "data": {
      "text/plain": [
       "'Cluster_0=Cluster_0_birch.applymap(str)\\nCluster_1=Cluster_1_birch.applymap(str)\\nCluster_2=Cluster_2_birch.applymap(str)\\nCluster_3=Cluster_3_birch.applymap(str)\\n\\nresults = plot_diff([Cluster_0,Cluster_1,Cluster_2,Cluster_3],\\nconfig={\\n    \"diff.label\": [\"Cluster 0\", \"Cluster 1\" , \"Cluster 2\",\"Cluster 3\"],\\n    \"diff.baseline\": 1,\\n    \"diff.density\": True\\n    }\\n)\\nresults.show_browser()'"
      ]
     },
     "execution_count": 6,
     "metadata": {},
     "output_type": "execute_result"
    }
   ],
   "source": [
    "'''Cluster_0=Cluster_0_birch.applymap(str)\n",
    "Cluster_1=Cluster_1_birch.applymap(str)\n",
    "Cluster_2=Cluster_2_birch.applymap(str)\n",
    "Cluster_3=Cluster_3_birch.applymap(str)\n",
    "\n",
    "results = plot_diff([Cluster_0,Cluster_1,Cluster_2,Cluster_3],\n",
    "config={\n",
    "    \"diff.label\": [\"Cluster 0\", \"Cluster 1\" , \"Cluster 2\",\"Cluster 3\"],\n",
    "    \"diff.baseline\": 1,\n",
    "    \"diff.density\": True\n",
    "    }\n",
    ")\n",
    "results.show_browser()'''"
   ]
  }
 ],
 "metadata": {
  "celltoolbar": "Raw Cell Format",
  "kernelspec": {
   "display_name": "base",
   "language": "python",
   "name": "python3"
  },
  "language_info": {
   "codemirror_mode": {
    "name": "ipython",
    "version": 3
   },
   "file_extension": ".py",
   "mimetype": "text/x-python",
   "name": "python",
   "nbconvert_exporter": "python",
   "pygments_lexer": "ipython3",
   "version": "3.9.7"
  },
  "vscode": {
   "interpreter": {
    "hash": "ad2bdc8ecc057115af97d19610ffacc2b4e99fae6737bb82f5d7fb13d2f2c186"
   }
  }
 },
 "nbformat": 4,
 "nbformat_minor": 2
}
