{
 "cells": [
  {
   "attachments": {},
   "cell_type": "markdown",
   "metadata": {},
   "source": [
    "# Data Science Methodology for Breast Cancer Diagnosis (DSM-BCD)"
   ]
  },
  {
   "cell_type": "markdown",
   "metadata": {},
   "source": [
    "**Problema.** Colombia presenta limitaciones con respecto al acceso de la detección y el diagnóstico temprano del cáncer, provocado en la mayoría de los casos por factores como el estrato socio-económico, la cobertura del seguro de salud, el origen y la accesibilidad. En promedio, el tiempo de espera de un paciente es de 90 días desde la aparición de los síntomas hasta el diagnóstico de dicho cáncer. La primera acción para reducir la tasa de mortalidad por cáncer de mama debe estar enfocada en la agilidad del diagnóstico y el acceso oportuno a la atención.  Así, el objetivo de esta investigación es aplicar las etapas de la metodología KDD\\footnote{Knowledge Discovery in Databases} al conjunto de datos de morbilidad por cáncer entre los años 2019 y 2020 en el municipio de Pereira-Risaralda. Esto con la finalidad de pronosticar y caracterizar el tipo de población mas susceptible de padecer esta enfermedad según su edad, genero, zona y régimen de salud."
   ]
  },
  {
   "attachments": {},
   "cell_type": "markdown",
   "metadata": {},
   "source": [
    "**Conjunto de datos.** Un total de 817 muestras de tumores de mama se perfilaron con cinco plataformas diferentes como se ha descrito previamente (Cancer Genome Atlas Research Network, 2014) y también se perfilaron 633 casos mediante matriz de proteínas en fase inversa (RPPA)\n"
   ]
  },
  {
   "cell_type": "markdown",
   "metadata": {},
   "source": [
    "## Análisis exploratorio de datos"
   ]
  },
  {
   "cell_type": "code",
   "execution_count": 1,
   "metadata": {},
   "outputs": [
    {
     "ename": "ModuleNotFoundError",
     "evalue": "No module named 'dataprep'",
     "output_type": "error",
     "traceback": [
      "\u001b[1;31m---------------------------------------------------------------------------\u001b[0m",
      "\u001b[1;31mModuleNotFoundError\u001b[0m                       Traceback (most recent call last)",
      "\u001b[1;32m~\\AppData\\Local\\Temp\\ipykernel_8856\\1995650703.py\u001b[0m in \u001b[0;36m<module>\u001b[1;34m\u001b[0m\n\u001b[0;32m      3\u001b[0m \u001b[1;32mfrom\u001b[0m \u001b[0mIPython\u001b[0m\u001b[1;33m.\u001b[0m\u001b[0mdisplay\u001b[0m \u001b[1;32mimport\u001b[0m \u001b[0mImage\u001b[0m\u001b[1;33m\u001b[0m\u001b[1;33m\u001b[0m\u001b[0m\n\u001b[0;32m      4\u001b[0m \u001b[1;32mimport\u001b[0m \u001b[0mmatplotlib\u001b[0m\u001b[1;33m.\u001b[0m\u001b[0mpyplot\u001b[0m \u001b[1;32mas\u001b[0m \u001b[0mplt\u001b[0m\u001b[1;33m\u001b[0m\u001b[1;33m\u001b[0m\u001b[0m\n\u001b[1;32m----> 5\u001b[1;33m \u001b[1;32mfrom\u001b[0m \u001b[0mdataprep\u001b[0m\u001b[1;33m.\u001b[0m\u001b[0meda\u001b[0m \u001b[1;32mimport\u001b[0m \u001b[0mplot\u001b[0m\u001b[1;33m,\u001b[0m \u001b[0mplot_correlation\u001b[0m\u001b[1;33m,\u001b[0m \u001b[0mplot_missing\u001b[0m\u001b[1;33m,\u001b[0m\u001b[0mcreate_report\u001b[0m\u001b[1;33m\u001b[0m\u001b[1;33m\u001b[0m\u001b[0m\n\u001b[0m\u001b[0;32m      6\u001b[0m \u001b[1;32mfrom\u001b[0m \u001b[0mdataprep\u001b[0m\u001b[1;33m.\u001b[0m\u001b[0mclean\u001b[0m \u001b[1;32mimport\u001b[0m \u001b[0mclean_headers\u001b[0m\u001b[1;33m\u001b[0m\u001b[1;33m\u001b[0m\u001b[0m\n\u001b[0;32m      7\u001b[0m \u001b[1;32mfrom\u001b[0m \u001b[0mdataprep\u001b[0m\u001b[1;33m.\u001b[0m\u001b[0mclean\u001b[0m \u001b[1;32mimport\u001b[0m \u001b[0mclean_duplication\u001b[0m\u001b[1;33m\u001b[0m\u001b[1;33m\u001b[0m\u001b[0m\n",
      "\u001b[1;31mModuleNotFoundError\u001b[0m: No module named 'dataprep'"
     ]
    }
   ],
   "source": [
    "import pandas as pd\n",
    "import numpy as np\n",
    "from IPython.display import Image\n",
    "import matplotlib.pyplot as plt\n",
    "from dataprep.eda import plot, plot_correlation, plot_missing,create_report\n",
    "from dataprep.clean import clean_headers\n",
    "from dataprep.clean import clean_duplication\n",
    "from dataprep.eda import plot_diff"
   ]
  },
  {
   "attachments": {},
   "cell_type": "markdown",
   "metadata": {},
   "source": [
    "### K-Means Clustering"
   ]
  },
  {
   "cell_type": "code",
   "execution_count": null,
   "metadata": {},
   "outputs": [],
   "source": [
    "with open('kmean Cluster 0.csv') as f:\n",
    "    Cluster_0_kmean=pd.read_csv(f, delimiter=',')\n",
    "\n",
    "with open('kmean Cluster 1.csv') as f:\n",
    "    Cluster_1_kmean=pd.read_csv(f, delimiter=',')\n",
    "\n",
    "with open('kmean Cluster 2.csv') as f:\n",
    "    Cluster_2_kmean=pd.read_csv(f, delimiter=',')\n",
    "\n",
    "with open('kmean Cluster 3.csv') as f:\n",
    "    Cluster_3_kmean=pd.read_csv(f, delimiter=',')\n",
    "\n",
    "Cluster_0_kmean = create_report(Cluster_0_kmean, title='Cluster_0_kmean')\n",
    "Cluster_1_kmean = create_report(Cluster_1_kmean, title='Cluster_1_kmean')\n",
    "Cluster_2_kmean = create_report(Cluster_2_kmean, title='Cluster_2_kmean')\n",
    "Cluster_3_kmean = create_report(Cluster_3_kmean, title='Cluster_3_kmean')\n",
    "\n",
    "Cluster_0_kmean.show_browser()\n",
    "Cluster_1_kmean.show_browser()\n",
    "Cluster_2_kmean.show_browser()\n",
    "Cluster_3_kmean.show_browser()"
   ]
  },
  {
   "cell_type": "code",
   "execution_count": null,
   "metadata": {},
   "outputs": [],
   "source": [
    "Cluster_0=Cluster_0_kmean.applymap(str)\n",
    "Cluster_1=Cluster_1_kmean.applymap(str)\n",
    "Cluster_2=Cluster_2_kmean.applymap(str)\n",
    "Cluster_3=Cluster_3_kmean.applymap(str)\n",
    "\n",
    "results = plot_diff([Cluster_0,Cluster_1,Cluster_2,Cluster_3],\n",
    "config={\n",
    "    \"diff.label\": [\"Cluster 0\", \"Cluster 1\" , \"Cluster 2\",\"Cluster 3\"],\n",
    "    \"diff.baseline\": 1,\n",
    "    \"diff.density\": True\n",
    "    }\n",
    ")\n",
    "results.show_browser()"
   ]
  },
  {
   "attachments": {},
   "cell_type": "markdown",
   "metadata": {},
   "source": [
    "### K-Modes Clustering"
   ]
  },
  {
   "cell_type": "code",
   "execution_count": null,
   "metadata": {},
   "outputs": [],
   "source": [
    "with open('kmode Cluster 0.csv') as f:\n",
    "    Cluster_0_kmode=pd.read_csv(f, delimiter=',')\n",
    "\n",
    "with open('kmode Cluster 1.csv') as f:\n",
    "    Cluster_1_kmode=pd.read_csv(f, delimiter=',')\n",
    "\n",
    "with open('kmode Cluster 2.csv') as f:\n",
    "    Cluster_2_kmode=pd.read_csv(f, delimiter=',')\n",
    "\n",
    "Cluster_0_kmode = create_report(Cluster_0_kmode, title='Cluster_0_kmode')\n",
    "Cluster_1_kmode = create_report(Cluster_1_kmode, title='Cluster_1_kmode')\n",
    "Cluster_2_kmode = create_report(Cluster_2_kmode, title='Cluster_2_kmode')\n",
    "\n",
    "Cluster_0_kmode.show_browser()\n",
    "Cluster_1_kmode.show_browser()\n",
    "Cluster_2_kmode.show_browser()\n"
   ]
  },
  {
   "cell_type": "code",
   "execution_count": null,
   "metadata": {},
   "outputs": [],
   "source": [
    "Cluster_0=Cluster_0_kmode.applymap(str)\n",
    "Cluster_1=Cluster_1_kmode.applymap(str)\n",
    "Cluster_2=Cluster_2_kmode.applymap(str)\n",
    "\n",
    "results = plot_diff([Cluster_0,Cluster_1,Cluster_2],\n",
    "config={\n",
    "    \"diff.label\": [\"Cluster 0\", \"Cluster 1\" , \"Cluster 2\"],\n",
    "    \"diff.baseline\": 1,\n",
    "    \"diff.density\": True\n",
    "    }\n",
    ")\n",
    "results.show_browser()"
   ]
  },
  {
   "attachments": {},
   "cell_type": "markdown",
   "metadata": {},
   "source": [
    "### BIRCH Clustering"
   ]
  },
  {
   "cell_type": "code",
   "execution_count": null,
   "metadata": {},
   "outputs": [],
   "source": [
    "with open('birch Cluster 0.csv') as f:\n",
    "    Cluster_0_birch=pd.read_csv(f, delimiter=',')\n",
    "\n",
    "with open('birch Cluster 1.csv') as f:\n",
    "    Cluster_1_birch=pd.read_csv(f, delimiter=',')\n",
    "\n",
    "with open('birch Cluster 2.csv') as f:\n",
    "    Cluster_2_birch=pd.read_csv(f, delimiter=',')\n",
    "\n",
    "with open('birch Cluster 3.csv') as f:\n",
    "    Cluster_3_birch=pd.read_csv(f, delimiter=',')\n",
    "\t\n",
    "\n",
    "Cluster_0_birch = create_report(Cluster_0_birch, title='Cluster_0_birch')\n",
    "Cluster_1_birch = create_report(Cluster_1_birch, title='Cluster_1_birch')\n",
    "Cluster_2_birch = create_report(Cluster_2_birch, title='Cluster_2_birch')\n",
    "Cluster_3_birch = create_report(Cluster_3_birch, title='Cluster_3_birch')\n",
    "\n",
    "Cluster_0_birch.show_browser()\n",
    "Cluster_1_birch.show_browser()\n",
    "Cluster_2_birch.show_browser()\n",
    "Cluster_3_birch.show_browser()"
   ]
  },
  {
   "cell_type": "code",
   "execution_count": null,
   "metadata": {},
   "outputs": [],
   "source": [
    "Cluster_0=Cluster_0_birch.applymap(str)\n",
    "Cluster_1=Cluster_1_birch.applymap(str)\n",
    "Cluster_2=Cluster_2_birch.applymap(str)\n",
    "Cluster_3=Cluster_3_birch.applymap(str)\n",
    "\n",
    "results = plot_diff([Cluster_0,Cluster_1,Cluster_2,Cluster_3],\n",
    "config={\n",
    "    \"diff.label\": [\"Cluster 0\", \"Cluster 1\" , \"Cluster 2\",\"Cluster 3\"],\n",
    "    \"diff.baseline\": 1,\n",
    "    \"diff.density\": True\n",
    "    }\n",
    ")\n",
    "results.show_browser()"
   ]
  }
 ],
 "metadata": {
  "celltoolbar": "Raw Cell Format",
  "kernelspec": {
   "display_name": "base",
   "language": "python",
   "name": "python3"
  },
  "language_info": {
   "codemirror_mode": {
    "name": "ipython",
    "version": 3
   },
   "file_extension": ".py",
   "mimetype": "text/x-python",
   "name": "python",
   "nbconvert_exporter": "python",
   "pygments_lexer": "ipython3",
   "version": "3.7.13"
  },
  "vscode": {
   "interpreter": {
    "hash": "ad2bdc8ecc057115af97d19610ffacc2b4e99fae6737bb82f5d7fb13d2f2c186"
   }
  }
 },
 "nbformat": 4,
 "nbformat_minor": 2
}
