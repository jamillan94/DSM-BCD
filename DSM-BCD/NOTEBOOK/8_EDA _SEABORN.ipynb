{
 "cells": [
  {
   "attachments": {},
   "cell_type": "markdown",
   "metadata": {},
   "source": [
    "# Data Science Methodology for Breast Cancer Diagnosis (DSM-BCD)"
   ]
  },
  {
   "cell_type": "markdown",
   "metadata": {},
   "source": [
    "**Problema.** Colombia presenta limitaciones con respecto al acceso de la detección y el diagnóstico temprano del cáncer, provocado en la mayoría de los casos por factores como el estrato socio-económico, la cobertura del seguro de salud, el origen y la accesibilidad. En promedio, el tiempo de espera de un paciente es de 90 días desde la aparición de los síntomas hasta el diagnóstico de dicho cáncer. La primera acción para reducir la tasa de mortalidad por cáncer de mama debe estar enfocada en la agilidad del diagnóstico y el acceso oportuno a la atención.  Así, el objetivo de esta investigación es aplicar las etapas de la metodología KDD\\footnote{Knowledge Discovery in Databases} al conjunto de datos de morbilidad por cáncer entre los años 2019 y 2020 en el municipio de Pereira-Risaralda. Esto con la finalidad de pronosticar y caracterizar el tipo de población mas susceptible de padecer esta enfermedad según su edad, genero, zona y régimen de salud."
   ]
  },
  {
   "attachments": {},
   "cell_type": "markdown",
   "metadata": {},
   "source": [
    "**Conjunto de datos.** Un total de 817 muestras de tumores de mama se perfilaron con cinco plataformas diferentes como se ha descrito previamente (Cancer Genome Atlas Research Network, 2014) y también se perfilaron 633 casos mediante matriz de proteínas en fase inversa (RPPA)\n"
   ]
  },
  {
   "attachments": {},
   "cell_type": "markdown",
   "metadata": {},
   "source": [
    "# Análisis exploratorio de datos"
   ]
  },
  {
   "cell_type": "code",
   "execution_count": null,
   "metadata": {},
   "outputs": [],
   "source": [
    "import pandas as pd\n",
    "import numpy as np\n",
    "from IPython.display import Image\n",
    "import matplotlib.pyplot as plt\n",
    "from dataprep.eda import plot, plot_correlation, plot_missing,create_report ,configs\n",
    "from dataprep.clean import clean_headers\n",
    "from dataprep.clean import clean_duplication\n",
    "from dataprep.clean import clean_date\n",
    "from dataprep.clean import clean_text\n",
    "import seaborn as sns\n",
    "import pandas as pd\n",
    "import re\n",
    "import numpy as np"
   ]
  },
  {
   "attachments": {},
   "cell_type": "markdown",
   "metadata": {},
   "source": [
    "### CRUDAS"
   ]
  },
  {
   "cell_type": "code",
   "execution_count": null,
   "metadata": {},
   "outputs": [],
   "source": [
    "import seaborn as sns\n",
    "import pandas as pd\n",
    "\n",
    "with open('brca_tcga_pub2015_clinical_data.csv') as f:\n",
    "    breast_cancer=pd.read_csv(f, delimiter=\"\\t\")\n",
    "\n",
    "PATH_CRUDAS = 'C:\\\\Users\\\\jamil\\\\OneDrive\\\\Escritorio\\\\DSM-BCD\\\\DSM-BCD\\\\NOTEBOOK\\\\IMAGENES_CRUDAS\\\\'\n",
    "\n",
    "breast_cancer.rename(\n",
    "columns={\n",
    "'Did patient start adjuvant postoperative radiotherapy?':'Did patient start adjuvant postoperative radiotherapy',\n",
    "}, inplace=True)\n"
   ]
  },
  {
   "cell_type": "code",
   "execution_count": null,
   "metadata": {},
   "outputs": [],
   "source": [
    "a=0\n",
    "for i in breast_cancer.columns:\n",
    "    if breast_cancer[i].dtypes == 'float64' or breast_cancer[i].dtypes == 'int64':\n",
    "        a= a +1\n",
    "        #fig, ax = plt.subplots(figsize=(4, 5))\n",
    "        #numerical=sns.histplot(breast_cancer[i],kde = False, color='orange', edgecolor='red',ax=ax)\n",
    "        numerical=sns.histplot(breast_cancer[i],kde = False, color='orange', edgecolor='red')\n",
    "        numerical.tick_params(axis='x')\n",
    "        numerical.set(title=i)\n",
    "        plot_num=numerical.get_figure()\n",
    "        #plot_num.savefig(PATH_CRUDAS+str(a)+\"_\"+i+\".pdf\",bbox_inches = 'tight')\n",
    "        plot_num.savefig(PATH_CRUDAS+str(a)+\".pdf\",bbox_inches = 'tight',dpi=600)    \n",
    "        plt.clf()\n",
    "\n",
    "    if breast_cancer[i].dtypes == 'object' or breast_cancer[i].dtype== 'bool' : \n",
    "        a= a +1\n",
    "        #fig, ax = plt.subplots(figsize=(4, 5))\n",
    "        #categorical=sns.countplot(x=breast_cancer[i], order = breast_cancer[i].value_counts().iloc[:10].index,palette=\"YlOrBr\",ax=ax)\n",
    "        categorical=sns.countplot(x=breast_cancer[i], order = breast_cancer[i].value_counts().iloc[:3].index,palette=\"YlOrBr\")\n",
    "        categorical.tick_params(axis='x')\n",
    "        categorical.set(title=i)\n",
    "        plot_cat = categorical.get_figure()\n",
    "        #plot_cat.savefig(PATH_CRUDAS+str(a)+\"_\"+i+\".pdf\",bbox_inches = 'tight')    \n",
    "        plot_cat.savefig(PATH_CRUDAS+str(a)+\".pdf\",dpi=600)    \n",
    "        plt.clf()\n"
   ]
  },
  {
   "attachments": {},
   "cell_type": "markdown",
   "metadata": {},
   "source": [
    "## DESCRIPTIVAS"
   ]
  },
  {
   "cell_type": "code",
   "execution_count": null,
   "metadata": {},
   "outputs": [],
   "source": [
    "with open('Breast_Clean_Data.csv') as f:\n",
    "    breast_clean=pd.read_csv(f, delimiter=',')\n",
    "\n",
    "PATH_DESCRIPTIVAS = 'C:\\\\Users\\\\jamil\\\\OneDrive\\\\Escritorio\\\\DSM-BCD\\\\DSM-BCD\\\\NOTEBOOK\\\\IMAGENES_DESCRIPTIVAS\\\\'"
   ]
  },
  {
   "cell_type": "code",
   "execution_count": null,
   "metadata": {},
   "outputs": [],
   "source": [
    "a=0\n",
    "for i in breast_clean.columns:\n",
    "    if breast_clean[i].dtypes == 'float64' or breast_clean[i].dtypes == 'int64':\n",
    "        a= a +1\n",
    "        numerical=sns.histplot(breast_clean[i],kde = True,color='purple')\n",
    "        numerical.tick_params(axis='x', rotation=75)\n",
    "        numerical.set(title=i)\n",
    "        plot_num=numerical.get_figure()\n",
    "        plot_num.savefig(PATH_DESCRIPTIVAS+str(a)+\"_\"+i+\".pdf\",bbox_inches = 'tight')\n",
    "        plt.clf()\n",
    "\n",
    "    if breast_clean[i].dtypes == 'object' or breast_clean[i].dtype== 'bool' : \n",
    "        a= a +1\n",
    "        categorical=sns.countplot(x=breast_clean[i], order = breast_clean[i].value_counts().iloc[:10].index,palette=\"flare\")\n",
    "        categorical.tick_params(axis='x', rotation=75)\n",
    "        categorical.set(title=i)\n",
    "        plot_cat = categorical.get_figure()\n",
    "        plot_cat.savefig(PATH_DESCRIPTIVAS+str(a)+\"_\"+i+\".pdf\",bbox_inches = 'tight')    \n",
    "        plt.clf()"
   ]
  },
  {
   "attachments": {},
   "cell_type": "markdown",
   "metadata": {},
   "source": [
    "### Graficar datos perdidos"
   ]
  },
  {
   "cell_type": "code",
   "execution_count": null,
   "metadata": {},
   "outputs": [],
   "source": [
    "import missingno as msno \n",
    "\n",
    "with open('brca_tcga_pub2015_clinical_data.csv') as f:\n",
    "    breast_cancer=pd.read_csv(f, delimiter=\"\\t\")\n",
    "\n",
    "PATH_PERDIDOS= 'C:\\\\Users\\\\jamil\\\\OneDrive\\\\Escritorio\\\\DSM-BCD\\\\DSM-BCD\\\\NOTEBOOK\\\\IMAGENES_PERDIDAS\\\\'\n",
    "\n",
    "numericas = breast_cancer.select_dtypes(exclude=['object','bool'])\n",
    "categoricas = breast_cancer.select_dtypes(exclude=['float64','int64'])\n",
    "\n",
    "missing = 'missing'\n",
    "name_num= 'numericas' \n",
    "name_categoricas= 'categoricas'"
   ]
  },
  {
   "attachments": {},
   "cell_type": "markdown",
   "metadata": {},
   "source": [
    "### Variables Multiples Datos Crudos"
   ]
  },
  {
   "cell_type": "code",
   "execution_count": null,
   "metadata": {},
   "outputs": [],
   "source": [
    "# Heat Map\n",
    "fig, ax = plt.subplots(figsize=(15,35))\n",
    "sns.heatmap(data=breast_cancer.isna().transpose(),cmap=\"YlGnBu\",cbar_kws={'label': 'Missing Data'},ax=ax)\n",
    "plt.savefig(PATH_PERDIDOS+missing+\"_heatmap\"+\".pdf\",bbox_inches = 'tight')\n",
    "\n",
    "# Displot\n",
    "plt.figure(figsize=(15,35))\n",
    "sns.displot(data=breast_cancer.isna().melt(value_name=\"missing\"),y=\"variable\",hue=\"missing\",multiple=\"fill\",height=20, aspect=11.7/20)\n",
    "plt.savefig(PATH_PERDIDOS+missing+\"_displot\"+\".pdf\",bbox_inches = 'tight')\n",
    "\n",
    "# Matrix\n",
    "fig = msno.matrix(breast_cancer)\n",
    "fig_copy = fig.get_figure()\n",
    "fig_copy.savefig(PATH_PERDIDOS+missing+\"_matrix\"+\".pdf\",bbox_inches = 'tight')"
   ]
  },
  {
   "attachments": {},
   "cell_type": "markdown",
   "metadata": {},
   "source": [
    "#### Variables multiples de data limpia"
   ]
  },
  {
   "cell_type": "code",
   "execution_count": null,
   "metadata": {},
   "outputs": [],
   "source": [
    "import missingno as msno \n",
    "with open('Breast_Clean_Data.csv') as f:\n",
    "    breast_clean=pd.read_csv(f, delimiter=',')\n",
    "\n",
    "PATH_PERDIDOS= 'C:\\\\Users\\\\jamil\\\\OneDrive\\\\Escritorio\\\\DSM-BCD\\\\DSM-BCD\\\\NOTEBOOK\\\\IMAGENES_PERDIDAS\\\\'\n",
    "impute = 'impute'"
   ]
  },
  {
   "cell_type": "code",
   "execution_count": null,
   "metadata": {},
   "outputs": [],
   "source": [
    "# Heat Map\n",
    "fig, ax = plt.subplots(figsize=(5,10))\n",
    "sns.heatmap(data=breast_clean.isna().transpose(),cmap=\"YlGnBu\",cbar_kws={'label': 'Missing Data'},ax=ax)\n",
    "plt.savefig(PATH_PERDIDOS+impute+\"_heatmap\"+\".pdf\",bbox_inches = 'tight')\n",
    "\n",
    "# Displot\n",
    "plt.figure(figsize=(15,35))\n",
    "sns.displot(data=breast_clean.isna().melt(value_name=\"missing\"),y=\"variable\",hue=\"missing\",multiple=\"fill\",height=20, aspect=11.7/20)\n",
    "plt.savefig(PATH_PERDIDOS+impute+\"_displot\"+\".pdf\",bbox_inches = 'tight')\n",
    "\n",
    "# Matrix\n",
    "fig = msno.matrix(breast_clean)\n",
    "fig_copy = fig.get_figure()\n",
    "fig_copy.savefig(PATH_PERDIDOS+impute+\"_matrix\"+\".pdf\",bbox_inches = 'tight')\n"
   ]
  },
  {
   "attachments": {},
   "cell_type": "markdown",
   "metadata": {},
   "source": [
    "#### Variables Numericas"
   ]
  },
  {
   "cell_type": "code",
   "execution_count": null,
   "metadata": {},
   "outputs": [],
   "source": [
    "# Heat Map\n",
    "plt.figure(figsize=(10,6))\n",
    "sns.heatmap(data=numericas.isna().transpose(),\n",
    "            cmap=\"YlGnBu\",\n",
    "            cbar_kws={'label': 'Missing Data'})\n",
    "plt.savefig(PATH_PERDIDOS+name_num+\"_heatmap\"+\".pdf\",bbox_inches = 'tight')\n",
    "\n",
    "# Displot\n",
    "plt.figure(figsize=(20,60))\n",
    "sns.displot(data=numericas.isna().melt(value_name=\"missing\"),y=\"variable\",hue=\"missing\",multiple=\"fill\",aspect=1.2)\n",
    "plt.savefig(PATH_PERDIDOS+name_num+\"_displot\"+\".pdf\",bbox_inches = 'tight')\n",
    "\n",
    "# Matrix\n",
    "fig = msno.matrix(numericas)\n",
    "fig_copy = fig.get_figure()\n",
    "fig_copy.savefig(PATH_PERDIDOS+name_num+\"_matrix\"+\".pdf\",bbox_inches = 'tight')"
   ]
  },
  {
   "attachments": {},
   "cell_type": "markdown",
   "metadata": {},
   "source": [
    "#### Variables Categoricas"
   ]
  },
  {
   "cell_type": "code",
   "execution_count": null,
   "metadata": {},
   "outputs": [],
   "source": [
    "# Heat Map\n",
    "plt.figure(figsize=(10,6))\n",
    "sns.heatmap(data=categoricas.isna().transpose(),\n",
    "            cmap=\"YlGnBu\",\n",
    "            cbar_kws={'label': 'Missing Data'})\n",
    "plt.savefig(PATH_PERDIDOS+name_categoricas+\"_heatmap\"+\".pdf\",bbox_inches = 'tight')\n",
    "\n",
    "# Displot\n",
    "plt.figure(figsize=(40,60))\n",
    "sns.displot(data=categoricas.isna().melt(value_name=\"missing\"),y=\"variable\",hue=\"missing\",multiple=\"fill\",height=15, aspect=11.7/15)\n",
    "plt.savefig(PATH_PERDIDOS+name_categoricas+\"_displot\"+\".pdf\",bbox_inches = 'tight')\n",
    "\n",
    "# Matrix\n",
    "fig = msno.matrix(categoricas)\n",
    "fig_copy = fig.get_figure()\n",
    "fig_copy.savefig(PATH_PERDIDOS+name_categoricas+\"_matrix\"+\".pdf\",bbox_inches = 'tight')"
   ]
  }
 ],
 "metadata": {
  "celltoolbar": "Raw Cell Format",
  "kernelspec": {
   "display_name": "base",
   "language": "python",
   "name": "python3"
  },
  "language_info": {
   "codemirror_mode": {
    "name": "ipython",
    "version": 3
   },
   "file_extension": ".py",
   "mimetype": "text/x-python",
   "name": "python",
   "nbconvert_exporter": "python",
   "pygments_lexer": "ipython3",
   "version": "3.9.7"
  },
  "vscode": {
   "interpreter": {
    "hash": "ad2bdc8ecc057115af97d19610ffacc2b4e99fae6737bb82f5d7fb13d2f2c186"
   }
  }
 },
 "nbformat": 4,
 "nbformat_minor": 2
}
