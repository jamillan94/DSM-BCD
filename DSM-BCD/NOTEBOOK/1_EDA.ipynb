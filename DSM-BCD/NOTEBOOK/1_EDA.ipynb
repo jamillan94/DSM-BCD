{
 "cells": [
  {
   "attachments": {},
   "cell_type": "markdown",
   "metadata": {},
   "source": [
    "# Data Science Methodology for Breast Cancer Diagnosis (DSM-BCD)"
   ]
  },
  {
   "cell_type": "markdown",
   "metadata": {},
   "source": [
    "**Problema.** Colombia presenta limitaciones con respecto al acceso de la detección y el diagnóstico temprano del cáncer, provocado en la mayoría de los casos por factores como el estrato socio-económico, la cobertura del seguro de salud, el origen y la accesibilidad. En promedio, el tiempo de espera de un paciente es de 90 días desde la aparición de los síntomas hasta el diagnóstico de dicho cáncer. La primera acción para reducir la tasa de mortalidad por cáncer de mama debe estar enfocada en la agilidad del diagnóstico y el acceso oportuno a la atención.  Así, el objetivo de esta investigación es aplicar las etapas de la metodología KDD\\footnote{Knowledge Discovery in Databases} al conjunto de datos de morbilidad por cáncer entre los años 2019 y 2020 en el municipio de Pereira-Risaralda. Esto con la finalidad de pronosticar y caracterizar el tipo de población mas susceptible de padecer esta enfermedad según su edad, genero, zona y régimen de salud."
   ]
  },
  {
   "attachments": {},
   "cell_type": "markdown",
   "metadata": {},
   "source": [
    "**Conjunto de datos.** Un total de 817 muestras de tumores de mama se perfilaron con cinco plataformas diferentes como se ha descrito previamente (Cancer Genome Atlas Research Network, 2014) y también se perfilaron 633 casos mediante matriz de proteínas en fase inversa (RPPA)\n"
   ]
  },
  {
   "attachments": {},
   "cell_type": "markdown",
   "metadata": {},
   "source": [
    "# Análisis exploratorio de datos"
   ]
  },
  {
   "cell_type": "code",
   "execution_count": 110,
   "metadata": {},
   "outputs": [],
   "source": [
    "import pandas as pd\n",
    "import numpy as np\n",
    "from IPython.display import Image\n",
    "import matplotlib.pyplot as plt\n",
    "from dataprep.eda import plot, plot_correlation, plot_missing,create_report ,configs\n",
    "from dataprep.clean import clean_headers\n",
    "from dataprep.clean import clean_duplication\n",
    "from dataprep.clean import clean_date\n",
    "from dataprep.clean import clean_text\n",
    "import numpy as np"
   ]
  },
  {
   "cell_type": "code",
   "execution_count": 111,
   "metadata": {},
   "outputs": [],
   "source": [
    "with open('brca_tcga_pub2015_clinical_data.csv') as f:\n",
    "    breast_cancer=pd.read_csv(f, delimiter=';')"
   ]
  },
  {
   "cell_type": "code",
   "execution_count": 112,
   "metadata": {},
   "outputs": [
    {
     "data": {
      "text/plain": [
       "(818, 110)"
      ]
     },
     "execution_count": 112,
     "metadata": {},
     "output_type": "execute_result"
    }
   ],
   "source": [
    "bc = breast_cancer.copy()\n",
    "bc.shape"
   ]
  },
  {
   "cell_type": "code",
   "execution_count": 113,
   "metadata": {},
   "outputs": [
    {
     "data": {
      "application/vnd.jupyter.widget-view+json": {
       "model_id": "25b0e1179e534bf38f379367f9213a93",
       "version_major": 2,
       "version_minor": 0
      },
      "text/plain": [
       "  0%|          | 0/946 [00:00<?, ?it/s]"
      ]
     },
     "metadata": {},
     "output_type": "display_data"
    },
    {
     "name": "stderr",
     "output_type": "stream",
     "text": [
      "E-1019 (DUPLICATE_FACTORS): FactorRange must specify a unique list of categorical factors for an axis: duplicate factors found: 'American Join...ode', 'Neoplasm Dise...ode', 'International...ode', 'Positive Find...unt', 'First Patholo...ype'\n",
      "E-1019 (DUPLICATE_FACTORS): FactorRange must specify a unique list of categorical factors for an axis: duplicate factors found: 'Positive Find...unt', 'First Patholo...ype'\n",
      "E-1019 (DUPLICATE_FACTORS): FactorRange must specify a unique list of categorical factors for an axis: duplicate factors found: 'First Patholo...ype', 'Positive Find...unt'\n"
     ]
    }
   ],
   "source": [
    "missing=plot_missing(bc,config={'height': 600, 'width': 600})\n",
    "missing.show_browser()"
   ]
  },
  {
   "attachments": {},
   "cell_type": "markdown",
   "metadata": {},
   "source": [
    "## 1. Análisis parcial de datos crudos"
   ]
  },
  {
   "cell_type": "code",
   "execution_count": 114,
   "metadata": {},
   "outputs": [],
   "source": [
    "#report = create_report(breast_cancer, title='Breast Invasive Carcinoma (TCGA, Cell 2015)' , config={'bar.sort_descending': True, 'bar.yscale': 'linear', 'height': 100, 'width': 400, 'bar.color': '#FF8C00', 'hist.color': '#FF8C00'})"
   ]
  },
  {
   "cell_type": "code",
   "execution_count": 115,
   "metadata": {},
   "outputs": [],
   "source": [
    "#report.show_browser()"
   ]
  },
  {
   "cell_type": "code",
   "execution_count": 116,
   "metadata": {},
   "outputs": [],
   "source": [
    "#report.save()"
   ]
  },
  {
   "cell_type": "code",
   "execution_count": 117,
   "metadata": {},
   "outputs": [],
   "source": [
    "#f=plot(bc,config={'bar.sort_descending': True, 'bar.yscale': 'linear', 'height': 100, 'width': 400, 'bar.color': '#FF8C00','bar.enable':True, 'hist.color': '#FF8C00'})\n",
    "#f.show_browser()\n"
   ]
  },
  {
   "attachments": {},
   "cell_type": "markdown",
   "metadata": {},
   "source": [
    "## 2. Transformación de  variables"
   ]
  },
  {
   "attachments": {},
   "cell_type": "markdown",
   "metadata": {},
   "source": [
    "### 2.1 Re-nombrar Columnas"
   ]
  },
  {
   "cell_type": "code",
   "execution_count": 118,
   "metadata": {},
   "outputs": [
    {
     "name": "stdout",
     "output_type": "stream",
     "text": [
      "Column Headers Cleaning Report:\n",
      "\t110 values cleaned (100.0%)\n"
     ]
    }
   ],
   "source": [
    "breast_clean=clean_headers(breast_cancer)"
   ]
  },
  {
   "cell_type": "code",
   "execution_count": 119,
   "metadata": {},
   "outputs": [],
   "source": [
    "breast_clean.columns=breast_clean.columns.str.replace('american_joint_committee_on_cancer_','')"
   ]
  },
  {
   "cell_type": "code",
   "execution_count": 120,
   "metadata": {},
   "outputs": [],
   "source": [
    "breast_clean.columns=breast_clean.columns.str.replace('international_classification_of_diseases_for_oncology_third_edition_icd_o_3_','')"
   ]
  },
  {
   "cell_type": "code",
   "execution_count": 121,
   "metadata": {},
   "outputs": [],
   "source": [
    "breast_clean.rename(\n",
    "columns={\n",
    "'neoplasm_disease_lymph_node_stage_code':'neoplasm_lymph_code',\n",
    "'neoplasm_lymph_node_stage_code':'neoplasm_stage',\n",
    "'brachytherapy_first_reference_point_administered_total_dose':'brachytherapy',\n",
    "'birth_from_initial_pathologic_diagnosis_date':'birth_initial_diagnosis',\n",
    "'death_from_initial_pathologic_diagnosis_date':'death_initial_diagnosis',\n",
    "'last_alive_less_initial_pathologic_diagnosis_date_calculated_day_value':'last_alive_date',\n",
    "'neoadjuvant_therapy_type_administered_prior_to_resection_text':'neoadjuvant_therapy',\n",
    "'prior_cancer_diagnosis_occurence':'prior_diagnosis_occurence',\n",
    "'informed_consent_verified':'consent_verified',\n",
    "'primary_lymph_node_presentation_assessment_ind_3':'lymph_presentation',\n",
    "'positive_finding_lymph_node_hematoxylin_and_eosin_staining_microscopy_count':'positive_lymph_hematoxylin',\n",
    "'positive_finding_lymph_node_keratin_immunohistochemistry_staining_method_count':'positive_lymph_keratin',\n",
    "'lymph_node_s_examined_number':'lymph_examined_number',\n",
    "'first_pathologic_diagnosis_biospecimen_acquisition_method_type':'biospecimen_method',\n",
    "'first_pathologic_diagnosis_biospecimen_acquisition_other_method_type':'biospecimen_other_method',\n",
    "'new_neoplasm_event_post_initial_therapy_indicator':'new_neoplasm_event',\n",
    "'adjuvant_postoperative_pharmaceutical_therapy_administered_indicator':'pharmaceutical_therapy',\n",
    "'tissue_prospective_collection_indicator':'tissue_prospective_indicator',\n",
    "'did_patient_start_adjuvant_postoperative_radiotherapy':'postoperative_radiotherapy',\n",
    "'tissue_retrospective_collection_indicator':'tissue_retrospective_indicator',\n",
    "'number_of_samples_per_patient':'number_samples',\n",
    "'surgery_for_positive_margins':'surgery_positive',\n",
    "'surgery_for_positive_margins_other':'surgery_positive_other',\n",
    "'surgery_for_positive_margins_other':'surgery_positive_other',\n",
    "'neoplasm_histologic_type_name':'neoplasm_histologic_type',\n",
    "'tumor_other_histologic_subtype':'tumor_other_subtype',\n",
    "'year_cancer_initial_diagnosis':'year_initial_diagnosis',\n",
    "'first_surgical_procedure_other':'surgical_other'\n",
    "}, inplace=True)"
   ]
  },
  {
   "cell_type": "code",
   "execution_count": 122,
   "metadata": {},
   "outputs": [],
   "source": [
    "breast_clean.columns=breast_clean.columns.str.replace('_to_','_')"
   ]
  },
  {
   "cell_type": "code",
   "execution_count": 123,
   "metadata": {},
   "outputs": [],
   "source": [
    "breast_clean.columns=breast_clean.columns.str.replace('_and_','_')"
   ]
  },
  {
   "cell_type": "code",
   "execution_count": 124,
   "metadata": {},
   "outputs": [],
   "source": [
    "breast_clean.columns=breast_clean.columns.str.replace('_by_','_')"
   ]
  },
  {
   "cell_type": "code",
   "execution_count": 125,
   "metadata": {},
   "outputs": [],
   "source": [
    "#breast_clean.to_csv('Breast_Normal_Data.csv',index=False)"
   ]
  },
  {
   "attachments": {},
   "cell_type": "markdown",
   "metadata": {},
   "source": [
    "### 2.2 Estandarizar variables de Texto"
   ]
  },
  {
   "cell_type": "code",
   "execution_count": 126,
   "metadata": {},
   "outputs": [],
   "source": [
    "custom_pipeline = [{\"operator\": \"lowercase\"}]\n",
    "for i in breast_clean.columns:\n",
    "    breast_clean=clean_text(breast_clean,i,pipeline=custom_pipeline)"
   ]
  },
  {
   "cell_type": "code",
   "execution_count": 127,
   "metadata": {},
   "outputs": [],
   "source": [
    "breast_clean = breast_clean.replace(\"<NA>\", np.NaN)"
   ]
  },
  {
   "cell_type": "code",
   "execution_count": 128,
   "metadata": {},
   "outputs": [],
   "source": [
    "breast_clean = breast_clean.replace(\"nan\",np.NaN)"
   ]
  },
  {
   "cell_type": "code",
   "execution_count": 129,
   "metadata": {},
   "outputs": [],
   "source": [
    "breast_clean = breast_clean.replace(\"nan\",'')"
   ]
  },
  {
   "cell_type": "code",
   "execution_count": 130,
   "metadata": {},
   "outputs": [],
   "source": [
    "breast_clean.brachytherapy=breast_clean.brachytherapy.replace(\n",
    "    ['no value given',\n",
    "    '% ihc',\n",
    "    '-',\n",
    "    ' '],[np.NaN,\n",
    "    'ihc',\n",
    "    '',\n",
    "    ''],regex=True)"
   ]
  },
  {
   "cell_type": "code",
   "execution_count": 131,
   "metadata": {},
   "outputs": [],
   "source": [
    "breast_clean.publication_version_type=breast_clean.publication_version_type.replace(\n",
    "    ['th|rd'],[''],regex=True)"
   ]
  },
  {
   "cell_type": "code",
   "execution_count": 132,
   "metadata": {},
   "outputs": [],
   "source": [
    "breast_clean.cent_17_copy_number=breast_clean.cent_17_copy_number.replace(\n",
    "    ['polisomy',],[np.NaN,],regex=True)"
   ]
  },
  {
   "cell_type": "code",
   "execution_count": 133,
   "metadata": {},
   "outputs": [],
   "source": [
    "breast_clean.er_positivity_scale_used=breast_clean.er_positivity_scale_used.replace(\n",
    "    ['point scale',],\n",
    "    [''],regex=True)"
   ]
  },
  {
   "cell_type": "code",
   "execution_count": 134,
   "metadata": {},
   "outputs": [],
   "source": [
    "breast_clean.disease_free_status=breast_clean.disease_free_status.replace(\n",
    "    ['0:diseasefree',\n",
    "    '1:recurred/progressed'],\n",
    "    ['diseasefree',\n",
    "    'progressed'],regex=True)"
   ]
  },
  {
   "cell_type": "code",
   "execution_count": 135,
   "metadata": {},
   "outputs": [],
   "source": [
    "breast_clean.days_last_followup = breast_clean.days_last_followup.replace(\n",
    "    ['-'],[''],regex=True)"
   ]
  },
  {
   "cell_type": "code",
   "execution_count": 136,
   "metadata": {},
   "outputs": [],
   "source": [
    "breast_clean.her_2_copy_number=breast_clean.her_2_copy_number.replace(\n",
    "    ['<',\n",
    "    '>',\n",
    "    'not amplified'\n",
    "    ],\n",
    "    ['',\n",
    "    '',\n",
    "    0],regex=True)"
   ]
  },
  {
   "cell_type": "code",
   "execution_count": 137,
   "metadata": {},
   "outputs": [],
   "source": [
    "breast_clean.er_positivity_scale_other=breast_clean.er_positivity_scale_other.replace(\n",
    "    ['protein',\n",
    "    'allred score 0',\n",
    "    '=',\n",
    "    'scrore',\n",
    "    'h-score',\n",
    "    'intensity',\n",
    "    'strong using weak, moderate and strong',\n",
    "    'moderate using the scale of weak, moderate, strong',\n",
    "    'moderate using scale of weak, moderate, strong',\n",
    "    ' \\(per outside facility\\)',\n",
    "    '  ',\n",
    "    ' '\n",
    "    ],\n",
    "    ['',\n",
    "    'allred score',\n",
    "    '',\n",
    "    'score',\n",
    "    'hscore',\n",
    "    '',\n",
    "    'strong',\n",
    "    'moderate',\n",
    "    'moderate',\n",
    "    '',\n",
    "    '',\n",
    "    ''\n",
    "    ],regex=True)"
   ]
  },
  {
   "cell_type": "code",
   "execution_count": 138,
   "metadata": {},
   "outputs": [],
   "source": [
    "breast_clean.er_status_ihc=breast_clean.er_status_ihc.replace(\n",
    "    ['indeterminate'],\n",
    "    ['positive'],regex=True)"
   ]
  },
  {
   "cell_type": "code",
   "execution_count": 139,
   "metadata": {},
   "outputs": [],
   "source": [
    "breast_clean.surgical_other=breast_clean.surgical_other.replace(\n",
    "    ['total mastectomy',\n",
    "     'modified radical masectomy',\n",
    "    'biospy',\n",
    "    \"patey's\",\n",
    "    'lymoh'],\n",
    "    [\"patey's surgery\",\n",
    "     \"patey's surgery\",\n",
    "    'biopsy',\n",
    "    'pateys',\n",
    "    'lymph'],regex=True)\n",
    "\n",
    "breast_clean.surgical_other=breast_clean.surgical_other.replace(\n",
    "    ['biospy',\n",
    "    \"patey's\",\n",
    "    'lymoh'],\n",
    "    ['biopsy',\n",
    "    'pateys',\n",
    "    'lymph'],regex=True)"
   ]
  },
  {
   "cell_type": "code",
   "execution_count": 140,
   "metadata": {},
   "outputs": [],
   "source": [
    "breast_clean.neoplasm_histologic_type=breast_clean.neoplasm_histologic_type.replace(\n",
    "    [\"(please specify)\",\n",
    "    \"other, specify\",\n",
    "    '\\(','\\)'],\n",
    "    ['',\n",
    "    'other',\n",
    "    '',''],regex=True)"
   ]
  },
  {
   "cell_type": "code",
   "execution_count": 141,
   "metadata": {},
   "outputs": [],
   "source": [
    "breast_clean.tumor_other_subtype=breast_clean.tumor_other_subtype.replace(\n",
    "    ['ductal and lobular features',\n",
    "    'infiltrating ductal & lobular',\n",
    "    'lobular carcinoma with ductal features',\n",
    "    'lobular/ductal'],\n",
    "    ['ductal/lobular',\n",
    "    'infiltrating ductal and lobular carcinoma',\n",
    "    'ductal/lobular',\n",
    "    'ductal/lobular'],regex=True)"
   ]
  },
  {
   "cell_type": "code",
   "execution_count": 142,
   "metadata": {},
   "outputs": [],
   "source": [
    "breast_clean.icd_10_classification=breast_clean.icd_10_classification.replace(\n",
    "    ['c50.919'],['c50.9'],regex=True)"
   ]
  },
  {
   "cell_type": "code",
   "execution_count": 143,
   "metadata": {},
   "outputs": [],
   "source": [
    "breast_clean.menopause_status=breast_clean.menopause_status.replace(\n",
    "    ['post \\(prior bilateral ovariectomy or >12 mo since lmp with no prior hysterectomy\\)',\n",
    "    'pre \\(<6 months since lmp and no prior bilateral ovariectomy and not on estrogen replacement\\)',\n",
    "    'indeterminate \\(neither pre or postmenopausal\\)',\n",
    "    'peri \\(6-12 months since last menstrual period\\)'\n",
    "    ],\n",
    "    ['post',\n",
    "    'pre',\n",
    "    'indeterminate',\n",
    "    'peri'],regex=True)"
   ]
  },
  {
   "cell_type": "code",
   "execution_count": 144,
   "metadata": {},
   "outputs": [],
   "source": [
    "breast_clean.metastatic_site=breast_clean.metastatic_site.replace(\n",
    "    ['lung\\|bone\\|liver\\|other, specify',\n",
    "     'other, specify',\n",
    "    'bone\\|liver',\n",
    "    ],\n",
    "    ['other',\n",
    "    'other',\n",
    "    'bone-liver',],regex=True)"
   ]
  },
  {
   "cell_type": "code",
   "execution_count": 145,
   "metadata": {},
   "outputs": [],
   "source": [
    "breast_clean.biospecimen_method=breast_clean.biospecimen_method.replace(\n",
    "    ['other method, specify:',\n",
    "    'cytology \\(e.g. peritoneal or pleural fluid\\)'\n",
    "    ],\n",
    "    ['other',\n",
    "    'cytology'\n",
    "    ],regex=True)"
   ]
  },
  {
   "cell_type": "code",
   "execution_count": 146,
   "metadata": {},
   "outputs": [],
   "source": [
    "breast_clean.biospecimen_other_method=breast_clean.biospecimen_other_method.replace(\n",
    "    ['biopsy, nos',\n",
    "    \"patey's\",\n",
    "    'surgery'\n",
    "    ],\n",
    "    ['biopsy',\n",
    "    \"pateys\",\n",
    "    'suregery'\n",
    "    ],regex=True)"
   ]
  },
  {
   "cell_type": "code",
   "execution_count": 147,
   "metadata": {},
   "outputs": [],
   "source": [
    "breast_clean.overall_survival_status=breast_clean.overall_survival_status.replace(\n",
    "    ['0:living',\n",
    "    '1:deceased'],\n",
    "    ['0',\n",
    "    '1'],regex=True)"
   ]
  },
  {
   "cell_type": "code",
   "execution_count": 148,
   "metadata": {},
   "outputs": [],
   "source": [
    "breast_clean.pr_positivity_define_method=breast_clean.pr_positivity_define_method.replace(\n",
    "    ['no value given',\n",
    "    '%ihc',\n",
    "    'per outside facility report',\n",
    "    '-',\n",
    "    ' ',\n",
    "    ],[np.NaN,\n",
    "    'ihc',\n",
    "    '',\n",
    "    '',\n",
    "    ''],regex=True)"
   ]
  },
  {
   "cell_type": "code",
   "execution_count": 149,
   "metadata": {},
   "outputs": [],
   "source": [
    "breast_clean.pr_positivity_scale_other=breast_clean.pr_positivity_scale_other.replace(\n",
    "    ['protein',\n",
    "    'allred score 0',\n",
    "    '=',\n",
    "    'scrore',\n",
    "    'h-score',\n",
    "    'intensity',\n",
    "    'strong using weak, moderate and strong',\n",
    "    'moderate using the scale of weak, moderate, strong',\n",
    "    'moderate using scale of weak, moderate, strong',\n",
    "    ' \\(per outside facility\\)',\n",
    "    'per outside facility report',\n",
    "    'strong, using scale of weak, moderate and strong',\n",
    "    'allread',\n",
    "    '  ',\n",
    "    ' ',\n",
    "    ],\n",
    "    ['',\n",
    "    'allred score',\n",
    "    '',\n",
    "    'score',\n",
    "    'hscore',\n",
    "    '',\n",
    "    'strong',\n",
    "    'moderate',\n",
    "    'moderate',\n",
    "    '',\n",
    "    '',\n",
    "    'Strong',\n",
    "    'allred',\n",
    "    '',\n",
    "    '',\n",
    "    ],regex=True)"
   ]
  },
  {
   "cell_type": "code",
   "execution_count": 150,
   "metadata": {},
   "outputs": [],
   "source": [
    "breast_clean.staging_system=breast_clean.staging_system.replace(\n",
    "    ['other \\(specify\\)'\n",
    "    ],\n",
    "    ['other'\n",
    "    ],regex=True)"
   ]
  },
  {
   "cell_type": "code",
   "execution_count": 151,
   "metadata": {},
   "outputs": [],
   "source": [
    "breast_clean.staging_system_1=breast_clean.staging_system_1.replace(\n",
    "    ['sln and non-sln bx|'+\n",
    "     'sln and non-sln biopsy|'+\n",
    "     'sentinel ln and one non sentinel ln|'\n",
    "     'sentinel \\+ non sentinel|'\n",
    "     'sn\\+1 non sentinel node|'\n",
    "     'sentinel lymph node biopsy and non-sentinel lymph node biopsy'\n",
    "    ],\n",
    "    ['sentinel lymph node and non-sentinel lymph node biopsy'\n",
    "    ],regex=True)"
   ]
  },
  {
   "cell_type": "code",
   "execution_count": 152,
   "metadata": {},
   "outputs": [],
   "source": [
    "breast_clean.pr_positivity_ihc_intensity_score=breast_clean.pr_positivity_ihc_intensity_score.replace(\n",
    "    ['\\+'],[''],regex=True)"
   ]
  },
  {
   "cell_type": "code",
   "execution_count": 153,
   "metadata": {},
   "outputs": [],
   "source": [
    "breast_clean.pr_positivity_scale_used=breast_clean.pr_positivity_scale_used.replace(\n",
    "    ['point scale',],\n",
    "    [''],regex=True)"
   ]
  },
  {
   "cell_type": "code",
   "execution_count": 154,
   "metadata": {},
   "outputs": [
    {
     "data": {
      "text/plain": [
       "\"breast_clean=breast_cancer.drop(\\n    ['i_study_id',\\n    'patient_id',\\n    'sample_id',\\n    'disease_code',\\n    'her_2_and_cent_17_scale_other',\\n    'her_2_and_cent_17_scale_other',\\n    'her_2_positivity_scale_other',\\n    'tumor_other_histologic_subtype',\\n    'metastatic_site',\\n    'metastatic_site_other',\\n    'nte_cent_17_her_2_ratio',\\n    'nte_er_ihc_intensity_score',\\n    'nte_er_status',\\n    'nte_er_status_ihc_positive',\\n    'nte_her_2_fish_status',\\n    'nte_her_2_positivity_ihc_score',\\n    'nte_her_2_status',\\n    'nte_her_2_status_ihc_positive',\\n    'nte_pr_ihc_intensity_score',\\n    'nte_pr_status_by_ihc',\\n    'nte_pr_status_ihc_positive',\\n    'project_code',\\n    'staging_system_1',\\n    'surgery_for_positive_margins_other',\\n    'other_patient_id',\\n    'other_sample_id'\\n    ], axis=1)\""
      ]
     },
     "execution_count": 154,
     "metadata": {},
     "output_type": "execute_result"
    }
   ],
   "source": [
    "'''breast_clean=breast_cancer.drop(\n",
    "    ['i_study_id',\n",
    "    'patient_id',\n",
    "    'sample_id',\n",
    "    'disease_code',\n",
    "    'her_2_and_cent_17_scale_other',\n",
    "    'her_2_and_cent_17_scale_other',\n",
    "    'her_2_positivity_scale_other',\n",
    "    'tumor_other_histologic_subtype',\n",
    "    'metastatic_site',\n",
    "    'metastatic_site_other',\n",
    "    'nte_cent_17_her_2_ratio',\n",
    "    'nte_er_ihc_intensity_score',\n",
    "    'nte_er_status',\n",
    "    'nte_er_status_ihc_positive',\n",
    "    'nte_her_2_fish_status',\n",
    "    'nte_her_2_positivity_ihc_score',\n",
    "    'nte_her_2_status',\n",
    "    'nte_her_2_status_ihc_positive',\n",
    "    'nte_pr_ihc_intensity_score',\n",
    "    'nte_pr_status_by_ihc',\n",
    "    'nte_pr_status_ihc_positive',\n",
    "    'project_code',\n",
    "    'staging_system_1',\n",
    "    'surgery_for_positive_margins_other',\n",
    "    'other_patient_id',\n",
    "    'other_sample_id'\n",
    "    ], axis=1)'''\n"
   ]
  },
  {
   "attachments": {},
   "cell_type": "markdown",
   "metadata": {},
   "source": [
    "### 2.3 Ajustar tipo de variables"
   ]
  },
  {
   "cell_type": "code",
   "execution_count": 155,
   "metadata": {},
   "outputs": [
    {
     "name": "stdout",
     "output_type": "stream",
     "text": [
      "publication_version_type : int64\n",
      "cent_17_copy_number : float64\n",
      "er_positivity_scale_used : int64\n",
      "her_2_copy_number : float64\n",
      "her_2_ihc_score : float64\n",
      "ihc_score : float64\n",
      "positive_lymph_keratin : float64\n",
      "pr_positivity_ihc_intensity_score : int64\n",
      "pr_positivity_scale_used : int64\n",
      "fraction_genome_altered : float64\n",
      "number_samples : int64\n",
      "tmb_nonsynonymous : float64\n",
      "her_2_cent_17_ratio : float64\n",
      "lymph_examined_number : float64\n",
      "mutation_count : float64\n",
      "overall_survival_months : float64\n",
      "disease_free_months : float64\n",
      "days_last_followup : float64\n"
     ]
    }
   ],
   "source": [
    "convert_data = ['publication_version_type','cent_17_copy_number','er_positivity_scale_used',\n",
    "'her_2_copy_number','her_2_ihc_score','ihc_score','positive_lymph_keratin',\n",
    "'pr_positivity_ihc_intensity_score','pr_positivity_scale_used','fraction_genome_altered',\n",
    "'number_samples','tmb_nonsynonymous','her_2_cent_17_ratio','lymph_examined_number','mutation_count',\n",
    "'overall_survival_months','disease_free_months','days_last_followup']\n",
    "\n",
    "for i in convert_data:\n",
    "    breast_clean[i] = pd.to_numeric(breast_clean[i].fillna(0))\n",
    "    print(i,':',breast_clean[i].dtype)"
   ]
  },
  {
   "cell_type": "code",
   "execution_count": 156,
   "metadata": {},
   "outputs": [],
   "source": [
    "breast_clean['fraction_genome_altered']=breast_clean['fraction_genome_altered']/10000"
   ]
  },
  {
   "attachments": {},
   "cell_type": "markdown",
   "metadata": {},
   "source": [
    "## 3. Detección y tratamiento de datos ausentes"
   ]
  },
  {
   "attachments": {},
   "cell_type": "markdown",
   "metadata": {},
   "source": [
    "### 3.1 Detección de datos ausentes"
   ]
  },
  {
   "cell_type": "code",
   "execution_count": 157,
   "metadata": {},
   "outputs": [
    {
     "data": {
      "application/vnd.jupyter.widget-view+json": {
       "model_id": "f17952dc1f694758ad5bee0d808f1af2",
       "version_major": 2,
       "version_minor": 0
      },
      "text/plain": [
       "  0%|          | 0/946 [00:00<?, ?it/s]"
      ]
     },
     "metadata": {},
     "output_type": "display_data"
    }
   ],
   "source": [
    "missing=plot_missing(breast_clean,config={'height': 600, 'width': 600})\n",
    "missing.show_browser()"
   ]
  },
  {
   "cell_type": "code",
   "execution_count": 158,
   "metadata": {},
   "outputs": [
    {
     "data": {
      "text/plain": [
       "0       259.0\n",
       "1       437.0\n",
       "2      1321.0\n",
       "3      1463.0\n",
       "4      1437.0\n",
       "        ...  \n",
       "813      85.0\n",
       "814       0.0\n",
       "815     714.0\n",
       "816    1658.0\n",
       "817    1021.0\n",
       "Name: days_last_followup, Length: 818, dtype: float64"
      ]
     },
     "execution_count": 158,
     "metadata": {},
     "output_type": "execute_result"
    }
   ],
   "source": [
    "breast_clean.days_last_followup"
   ]
  },
  {
   "attachments": {},
   "cell_type": "markdown",
   "metadata": {},
   "source": [
    "### 3.2 Imputación de datos ausentes\n"
   ]
  },
  {
   "cell_type": "code",
   "execution_count": 159,
   "metadata": {},
   "outputs": [],
   "source": [
    "from sklearn.impute import KNNImputer\n",
    "\n",
    "\n",
    "imputer = KNNImputer(n_neighbors=5, weights=\"distance\")\n",
    "#imputer = SimpleImputer(strategy='mean', missing_values=np.nan)\n",
    "\n",
    "imput_data=['diagnosis_age',\n",
    "            'cent_17_copy_number',\n",
    "            'birth_initial_diagnosis',\n",
    "            'days_sample_collection',\n",
    "            'her_2_cent_17_ratio',\n",
    "            'disease_free_months',\n",
    "            'days_last_followup',\n",
    "            'year_initial_diagnosis',\n",
    "            'positive_lymph_hematoxylin',\n",
    "            'lymph_examined_number',\n",
    "            'mutation_count',\n",
    "            'overall_survival_months',\n",
    "            'tmb_nonsynonymous'\n",
    "]\n",
    "\n",
    "for i in imput_data :\n",
    "    breast_clean[i]=breast_clean[i].replace([0.0,0,'0','0.0'],[np.nan,np.nan,np.nan,np.nan])\n",
    "\n",
    "    # Ajustamos el modelo e imputamos los missing values\n",
    "    imputer.fit(breast_clean[[i]])\n",
    "    breast_clean[i] = imputer.transform(breast_clean[[i]]).ravel()\n",
    "    breast_clean[i] = round(breast_clean[i],1)"
   ]
  },
  {
   "cell_type": "code",
   "execution_count": 160,
   "metadata": {},
   "outputs": [],
   "source": [
    "from sklearn.impute import SimpleImputer\n",
    "\n",
    "mode_data=['neoplasm_disease_stage_code',\n",
    "           'brachytherapy',\n",
    "           'publication_version_type',\n",
    "           'er_positivity_scale_used',\n",
    "           'cancer_type_detailed',\n",
    "           'disease_free_status',\n",
    "           'er_positivity_scale_other',\n",
    "           'er_status_ihc_percent_positive',\n",
    "           'ethnicity_category',\n",
    "           'surgical_other',\n",
    "           'er_status_ihc',\n",
    "           'her_2_fish_status',\n",
    "           'her_2_ihc_score',\n",
    "           'her_2_ihc_percent_positive',\n",
    "           'neoplasm_histologic_type',\n",
    "           'neoadjuvant_therapy',\n",
    "           'prior_diagnosis_occurence','ihc_her_2','ihc_score',\n",
    "           'lymph_presentation',\n",
    "           'menopause_status',\n",
    "           'metastatic_tumor_indicator',\n",
    "           'biospecimen_method',\n",
    "           'micromet_detection_ihc',\n",
    "           'oct_embedded',\n",
    "           'disease_surgical_margin_status',\n",
    "           'primary_tumor_site',\n",
    "           'tissue_prospective_indicator',\n",
    "           'pr_positivity_define_method',\n",
    "           'pr_positivity_scale_other',\n",
    "           'positive_lymph_keratin',\n",
    "           'pr_status_ihc',\n",
    "           'pr_status_ihc_percent_positive',\n",
    "           'pr_positivity_ihc_intensity_score',\n",
    "           'pr_positivity_scale_used',\n",
    "           'race_category','tissue_retrospective_indicator',\n",
    "           'staging_system',\n",
    "           'surgical_procedure_first',\n",
    "           'tissue_source_site','person_neoplasm_status'\n",
    "           ]\n",
    "\n",
    "for i in mode_data :\n",
    "    breast_clean[i]=breast_clean[i].replace([0.0,0,'0','0.0'],[np.nan,np.nan,np.nan,np.nan])\n",
    "    breast_clean[i] = breast_clean[i].fillna(breast_clean[i].mode()[0])\n",
    "    imputer = SimpleImputer(strategy='most_frequent', \n",
    "                            missing_values=np.nan)\n",
    "    imputer = imputer.fit(breast_clean[[i]])\n",
    "    breast_clean[[i]] = imputer.transform(breast_clean[[i]])"
   ]
  },
  {
   "attachments": {},
   "cell_type": "markdown",
   "metadata": {},
   "source": [
    "### 3.3 Eliminar datos innecesarios"
   ]
  },
  {
   "cell_type": "code",
   "execution_count": 161,
   "metadata": {},
   "outputs": [],
   "source": [
    "breast_clean=breast_clean.drop(\n",
    "[\n",
    "'study_id',\n",
    "'patient_id',\n",
    "'sample_id',\n",
    "'cancer_type',\n",
    "'death_initial_diagnosis',\n",
    "'last_alive_date',\n",
    "'publication_version_type',\n",
    "'disease_code',\n",
    "'brachytherapy',\n",
    "'form_completion_date',\n",
    "'histology_code',\n",
    "'site_code',\n",
    "'cent_17_copy_number',\n",
    "'birth_initial_diagnosis',\n",
    "'pr_positivity_define_method',\n",
    "'er_positivity_scale_used',\n",
    "#'pr_status_ihc_percent_positive',\n",
    "'her_2_cent_17_cells_count',\n",
    "'her_2_cent_17_scale_other',\n",
    "'her_2_copy_number',\n",
    "'her_2_fish_method',\n",
    "'her_2_positivity_method_text',\n",
    "'her_2_positivity_scale_other',\n",
    "'tumor_other_subtype',\n",
    "'consent_verified',\n",
    "'is_ffpe',\n",
    "'margin_status_reexcision',\n",
    "'metastatic_site',\n",
    "'metastatic_site_other',\n",
    "'biospecimen_other_method',\n",
    "'new_neoplasm_event',\n",
    "'nte_cent_17_her_2_ratio',\n",
    "'nte_er_ihc_intensity_score',\n",
    "'nte_er_status',\n",
    "'nte_er_status_ihc_positive',\n",
    "'nte_her_2_fish_status',\n",
    "'nte_her_2_positivity_ihc_score',\n",
    "'nte_her_2_status',\n",
    "'nte_her_2_status_ihc_positive',\n",
    "'nte_pr_ihc_intensity_score',\n",
    "'nte_pr_status_ihc',\n",
    "'nte_pr_status_ihc_positive',\n",
    "'other_patient_id',\n",
    "'other_sample_id',\n",
    "'pathology_report_file_name',\n",
    "'pharmaceutical_therapy',\n",
    "'project_code',\n",
    "'postoperative_radiotherapy',\n",
    "'somatic_status',\n",
    "'staging_system_1',\n",
    "'surgery_positive',\n",
    "'surgery_positive_other',\n",
    "'tumor_disease_anatomic_site'\n",
    "], axis=1\n",
    ")"
   ]
  },
  {
   "cell_type": "code",
   "execution_count": 162,
   "metadata": {},
   "outputs": [
    {
     "data": {
      "application/vnd.jupyter.widget-view+json": {
       "model_id": "a2f87a2a36ab44feb27ea9b47ce0c604",
       "version_major": 2,
       "version_minor": 0
      },
      "text/plain": [
       "  0%|          | 0/530 [00:00<?, ?it/s]"
      ]
     },
     "metadata": {},
     "output_type": "display_data"
    }
   ],
   "source": [
    "missing=plot_missing(breast_clean,config={'height': 400, 'width': 400})\n",
    "missing.show_browser()"
   ]
  },
  {
   "attachments": {},
   "cell_type": "markdown",
   "metadata": {},
   "source": [
    "## 4. Análisis Descriptivo "
   ]
  },
  {
   "cell_type": "code",
   "execution_count": 163,
   "metadata": {},
   "outputs": [
    {
     "data": {
      "application/vnd.jupyter.widget-view+json": {
       "model_id": "61178d2512bc4016a9cb85089e4b5f2b",
       "version_major": 2,
       "version_minor": 0
      },
      "text/plain": [
       "  0%|          | 0/6911 [00:00<?, ?it/s]"
      ]
     },
     "metadata": {},
     "output_type": "display_data"
    }
   ],
   "source": [
    "report = create_report(breast_clean, title='Breast Invasive Clean Report - 58 variables')\n",
    "report.show_browser()"
   ]
  },
  {
   "attachments": {},
   "cell_type": "markdown",
   "metadata": {},
   "source": [
    "## 5. Análisis de correlación de variables "
   ]
  },
  {
   "cell_type": "code",
   "execution_count": 164,
   "metadata": {},
   "outputs": [],
   "source": [
    "correlation = plot_correlation(breast_clean)\n",
    "correlation.show_browser()"
   ]
  },
  {
   "cell_type": "code",
   "execution_count": 165,
   "metadata": {},
   "outputs": [],
   "source": [
    "breast_clean.to_csv('Breast_Clean_Data.csv',index=False)\n",
    "#breast_clean.to_csv('breast_clean_classification.csv',index=False)\n",
    "#breast_clean.shape"
   ]
  }
 ],
 "metadata": {
  "celltoolbar": "Raw Cell Format",
  "kernelspec": {
   "display_name": "base",
   "language": "python",
   "name": "python3"
  },
  "language_info": {
   "codemirror_mode": {
    "name": "ipython",
    "version": 3
   },
   "file_extension": ".py",
   "mimetype": "text/x-python",
   "name": "python",
   "nbconvert_exporter": "python",
   "pygments_lexer": "ipython3",
   "version": "3.9.7"
  },
  "vscode": {
   "interpreter": {
    "hash": "ad2bdc8ecc057115af97d19610ffacc2b4e99fae6737bb82f5d7fb13d2f2c186"
   }
  }
 },
 "nbformat": 4,
 "nbformat_minor": 2
}
