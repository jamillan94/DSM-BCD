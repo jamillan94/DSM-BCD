{
 "cells": [
  {
   "attachments": {},
   "cell_type": "markdown",
   "metadata": {},
   "source": [
    "# Data Science Methodology for Breast Cancer Diagnosis (DSM-BCD)"
   ]
  },
  {
   "cell_type": "markdown",
   "metadata": {},
   "source": [
    "**Problema.** Colombia presenta limitaciones con respecto al acceso de la detección y el diagnóstico temprano del cáncer, provocado en la mayoría de los casos por factores como el estrato socio-económico, la cobertura del seguro de salud, el origen y la accesibilidad. En promedio, el tiempo de espera de un paciente es de 90 días desde la aparición de los síntomas hasta el diagnóstico de dicho cáncer. La primera acción para reducir la tasa de mortalidad por cáncer de mama debe estar enfocada en la agilidad del diagnóstico y el acceso oportuno a la atención.  Así, el objetivo de esta investigación es aplicar las etapas de la metodología KDD\\footnote{Knowledge Discovery in Databases} al conjunto de datos de morbilidad por cáncer entre los años 2019 y 2020 en el municipio de Pereira-Risaralda. Esto con la finalidad de pronosticar y caracterizar el tipo de población mas susceptible de padecer esta enfermedad según su edad, genero, zona y régimen de salud."
   ]
  },
  {
   "attachments": {},
   "cell_type": "markdown",
   "metadata": {},
   "source": [
    "**Conjunto de datos.** Un total de 817 muestras de tumores de mama se perfilaron con cinco plataformas diferentes como se ha descrito previamente (Cancer Genome Atlas Research Network, 2014) y también se perfilaron 633 casos mediante matriz de proteínas en fase inversa (RPPA)\n",
    "\n",
    "**1.Study ID**\n",
    "**2.Patient ID**\n",
    "**3.Sample ID**\n",
    "**4.Diagnosis Age**\n",
    "**5.American Joint Committee on Cancer Metastasis Stage Code**\n",
    "**6.Neoplasm Disease Lymph Node Stage American Joint Committee on Cancer Code**\n",
    "**7.Neoplasm Disease Stage American Joint Committee on Cancer Code**\n",
    "**8.American Joint Committee on Cancer Publication Version Type**\n",
    "**9.American Joint Committee on Cancer Tumor Stage Code**\n",
    "**10.Brachytherapy first reference point administered total dose**\n",
    "**11.Cancer Type**\n",
    "**12.Cancer Type Detailed**\n",
    "**13.Cent17 Copy Number**\n",
    "**14.Birth from Initial Pathologic Diagnosis Date**\n",
    "**15.Days to Sample Collection.**\n",
    "**16.Death from Initial Pathologic Diagnosis Date**\n",
    "**17.Last Alive Less Initial Pathologic Diagnosis Date Calculated Day Value**\n",
    "**18.Days to Last Followup**\n",
    "**19.Disease Free (Months)**\n",
    "**20.Disease Free Status**\n",
    "**21.Disease code**\n",
    "**22.ER positivity scale other**\n",
    "**23.ER positivity scale used**\n",
    "**24.ER Status By IHC**\n",
    "**25.ER Status IHC Percent Positive**\n",
    "**26.Ethnicity Category**\n",
    "**27.First surgical procedure other**\n",
    "**28.Form completion date**\n",
    "**29.Fraction Genome Altered**\n",
    "**30.HER2 and cent17 cells count**\n",
    "**31.HER2 and cent17 scale other**\n",
    "**32.HER2 cent17 ratio**\n",
    "**33.HER2 copy number**\n",
    "**34.HER2 fish method**\n",
    "**35.HER2 fish status**\n",
    "**36.HER2 ihc percent positive**\n",
    "**37.HER2 ihc score**\n",
    "**38.HER2 positivity method text**\n",
    "**39.HER2 positivity scale other**\n",
    "**40.Neoplasm Histologic Type Name**\n",
    "**41.Tumor Other Histologic Subtype**\n",
    "**42.Neoadjuvant Therapy Type Administered Prior To Resection Text**\n",
    "**43.Prior Cancer Diagnosis Occurence**\n",
    "**44.ICD-10 Classification**\n",
    "**45.International Classification of Diseases for Oncology, Third Edition ICD-O-3 Histology Code**\n",
    "**46.International Classification of Diseases for Oncology, Third Edition ICD-O-3 Site Code**\n",
    "**47.IHC-HER2**\n",
    "**48.IHC Score**\n",
    "**49.Informed consent verified**\n",
    "**50.Year Cancer Initial Diagnosis**\n",
    "**51.Is FFPE**\n",
    "**52.Primary Lymph Node Presentation Assessment Ind-3**\n",
    "**53.Positive Finding Lymph Node Hematoxylin and Eosin Staining Microscopy Count**\n",
    "**54.Positive Finding Lymph Node Keratin Immunohistochemistry Staining Method Count**\n",
    "**55.Lymph Node(s) Examined Number**\n",
    "**56.Margin status reexcision**\n",
    "**57.Menopause Status**\n",
    "**58.Metastatic Site**\n",
    "**59.Metastatic Site Other**\n",
    "**60.Metastatic tumor indicator**\n",
    "**61.First Pathologic Diagnosis Biospecimen Acquisition Method Type**\n",
    "**62.First Pathologic Diagnosis Biospecimen Acquisition Other Method Type**\n",
    "**63.Micromet detection by ihc**\n",
    "**64.Mutation Count**\n",
    "**65.New Neoplasm Event Post Initial Therapy Indicator**\n",
    "**66.Nte cent 17 HER2 ratio**\n",
    "**67.Nte er ihc intensity score**\n",
    "**68.Nte er status**\n",
    "**69.Nte er status ihc positive**\n",
    "**70.Nte HER2 fish status**\n",
    "**71.Nte HER2 positivity ihc score**\n",
    "**72.Nte HER2 status**\n",
    "**73.Nte HER2 status ihc positive**\n",
    "**74.Nte pr ihc intensity score**\n",
    "**75.Nte pr status by ihc**\n",
    "**76.Nte pr status ihc positive**\n",
    "**77.Oct embedded**\n",
    "**78.Oncotree Code**\n",
    "**79.Overall Survival (Months)**\n",
    "**80.Overall Survival Status**\n",
    "**81.Other Patient ID**\n",
    "**82.Other Sample ID**\n",
    "**83.Pathology Report File Name**\n",
    "**84.Disease Surgical Margin Status**\n",
    "**85.Adjuvant Postoperative Pharmaceutical Therapy Administered Indicator**\n",
    "**86.Primary Tumor Site**\n",
    "**87.Project code**\n",
    "**88.Tissue Prospective Collection Indicator**\n",
    "**89.PR positivity define method**\n",
    "**90.PR positivity ihc intensity score**\n",
    "**91.PR positivity scale other**\n",
    "**92.PR positivity scale used**\n",
    "**93.PR status by ihc**\n",
    "**94.PR status ihc percent positive**\n",
    "**95.Race Category**\n",
    "**96.Did patient start adjuvant postoperative radiotherapy?**\n",
    "**97.Tissue Retrospective Collection Indicator**\n",
    "**98.Number of Samples Per Patient**\n",
    "**99.Sample Type**\n",
    "**100.Sex**\n",
    "**101.Somatic Status**\n",
    "**102.Staging System**\n",
    "**103.Staging System_1**\n",
    "**104.Surgery for positive margins**\n",
    "**105.Surgery for positive margins other**\n",
    "**106.Surgical procedure first**\n",
    "**107.Tissue Source Site**\n",
    "**108.TMB (nonsynonymous)**\n",
    "**109.Person Neoplasm Status**\n",
    "**110.Tumor Disease Anatomic Site**\n"
   ]
  },
  {
   "cell_type": "markdown",
   "metadata": {},
   "source": [
    "## Análisis exploratorio de datos"
   ]
  },
  {
   "cell_type": "code",
   "execution_count": null,
   "metadata": {},
   "outputs": [],
   "source": [
    "import pandas as pd\n",
    "import numpy as np\n",
    "from IPython.display import Image\n",
    "from dataprep.eda import plot, plot_correlation, plot_missing,create_report\n",
    "import seaborn as sns"
   ]
  },
  {
   "cell_type": "code",
   "execution_count": null,
   "metadata": {},
   "outputs": [],
   "source": [
    "with open('brca_tcga_pub2015_clinical_data.csv') as f:\n",
    "    breast_cancer=pd.read_csv(f, delimiter=';')"
   ]
  },
  {
   "cell_type": "code",
   "execution_count": null,
   "metadata": {},
   "outputs": [],
   "source": [
    "breast_cancer.head(10)"
   ]
  },
  {
   "cell_type": "code",
   "execution_count": null,
   "metadata": {},
   "outputs": [],
   "source": [
    "breast_cancer.shape"
   ]
  },
  {
   "cell_type": "code",
   "execution_count": null,
   "metadata": {},
   "outputs": [],
   "source": [
    "create_report(breast_cancer)"
   ]
  },
  {
   "cell_type": "code",
   "execution_count": null,
   "metadata": {},
   "outputs": [],
   "source": [
    "#breast_cancer=breast_cancer.drop(['NOMBRE DIAGNOSTICO'], axis=1)"
   ]
  },
  {
   "cell_type": "code",
   "execution_count": null,
   "metadata": {},
   "outputs": [],
   "source": [
    "#breast_cancer.to_csv('Breast_Cancer_C500_C509.csv',index=False)"
   ]
  }
 ],
 "metadata": {
  "celltoolbar": "Raw Cell Format",
  "interpreter": {
   "hash": "ad2bdc8ecc057115af97d19610ffacc2b4e99fae6737bb82f5d7fb13d2f2c186"
  },
  "kernelspec": {
   "display_name": "Python 3.9.7 ('base')",
   "language": "python",
   "name": "python3"
  },
  "language_info": {
   "codemirror_mode": {
    "name": "ipython",
    "version": 3
   },
   "file_extension": ".py",
   "mimetype": "text/x-python",
   "name": "python",
   "nbconvert_exporter": "python",
   "pygments_lexer": "ipython3",
   "version": "3.9.7"
  }
 },
 "nbformat": 4,
 "nbformat_minor": 2
}
